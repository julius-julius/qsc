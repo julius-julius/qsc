{
 "cells": [
  {
   "cell_type": "code",
   "execution_count": null,
   "id": "3594df91",
   "metadata": {},
   "outputs": [],
   "source": [
    "#specify Path to TypeII_module.ipynb here, and run it\n",
    "\n",
    "%run '../auxiliary/TypeII_module.ipynb'"
   ]
  },
  {
   "cell_type": "code",
   "execution_count": null,
   "id": "31c13742",
   "metadata": {},
   "outputs": [],
   "source": [
    "#specify stateID\n",
    "\n",
    "stateID = [4, 0, 1, 2, 2, 1, 1, 1, 0, 1];"
   ]
  },
  {
   "cell_type": "code",
   "execution_count": null,
   "id": "94c46980",
   "metadata": {},
   "outputs": [],
   "source": [
    "#initial value of g and initial increment in g\n",
    "\n",
    "gloop = Fraction(1,10000);\n",
    "dgloop = Fraction(1,1280);"
   ]
  },
  {
   "cell_type": "code",
   "execution_count": null,
   "id": "ba6ebda3",
   "metadata": {},
   "outputs": [],
   "source": [
    "#initial hyperparameters\n",
    "\n",
    "cutP=16;\n",
    "cutQai = 30;\n",
    "QaiShift=100;\n",
    "\n",
    "# exit conditions\n",
    "precGoal = -24;\n",
    "errorTollerance = -precGoal;\n",
    "maxIterations = 5;\n",
    "\n",
    "# when debugmode = 1, the outputs of TypeII_script.wls and TypeII_package.wl files will be displayed, to aid in debugging\n",
    "debugmode = 0;"
   ]
  },
  {
   "cell_type": "code",
   "execution_count": null,
   "id": "63ef3650",
   "metadata": {
    "scrolled": false
   },
   "outputs": [],
   "source": [
    "# #uncomment to initialise numerics from a saved point\n",
    "\n",
    "\n",
    "# cutP, QaiShift, errorTollerance, maxIterations, cutQai = IniFromExisting(\n",
    "#     stateID,gloop,[cutP, QaiShift, errorTollerance, maxIterations, cutQai],debugmode)"
   ]
  },
  {
   "cell_type": "code",
   "execution_count": null,
   "id": "c7105f2a",
   "metadata": {},
   "outputs": [],
   "source": [
    "# max value of g, the iterations will quit once g = gmax point has been saved\n",
    "\n",
    "gmax = 2;\n",
    "\n",
    "# number of high precision points, before increasing the increment dgloop\n",
    "# set to zero initially, and automatically increased as the run goes on\n",
    "succescount = 0;"
   ]
  },
  {
   "cell_type": "code",
   "execution_count": null,
   "id": "c6538fce",
   "metadata": {
    "scrolled": false
   },
   "outputs": [],
   "source": [
    "while gloop<gmax:\n",
    "    listParams = [cutP,QaiShift,errorTollerance,maxIterations,cutQai];\n",
    "    print(grey,\"running:\",[gloop+0.0,dgloop+0.0], listParams);\n",
    "    listOut = runit(stateID,gloop,listParams,debugmode);\n",
    "    iniS,resS,resDelta,dDelta,itr,shifterror,atime,newtonGoal,flagError,flagSaved = listOut;\n",
    "    print(grey,\"obtaining:\",listOut);\n",
    "    # need to fix shift\n",
    "    if (shifterror > precGoal-1 and itr > 0 and 2*iniS < precGoal/8):\n",
    "        print(blue,\"fixing shift error\")\n",
    "        resShift = BoostShift(stateID,gloop,[cutP,QaiShift,errorTollerance,0,cutQai],debugmode)\n",
    "        print(resShift)\n",
    "        QaiShift, cutQai = resShift\n",
    "        continue;\n",
    "    # increasing cutP\n",
    "    if (2*resS > precGoal-1 and newtonGoal < precGoal and itr > 0 and 2*iniS < precGoal/8):\n",
    "        cutP = cutP+2\n",
    "        print(blue,\"cutP + 2: \", resS, \"try cutP: \", cutP)  \n",
    "        if (not (2*resS<precGoal and flagSaved == 1)):\n",
    "            continue;\n",
    "    # all good\n",
    "    if (2*resS<precGoal and flagSaved == 1):\n",
    "        if itr<4:\n",
    "            succescount = succescount + 1\n",
    "        inc = 0\n",
    "        if succescount>3 and (dgloop+0.0)<32/1000:\n",
    "            inc = 1\n",
    "            dgloop = 2*dgloop\n",
    "            succescount = 0\n",
    "        print(teal,\"success\",gloop+0.0,\" \",succescount,\" time=\",str(timedelta(seconds=atime)))\n",
    "        # check if there is a good point soon\n",
    "        if int(gloop*10) < int((gloop+dgloop)*10):\n",
    "            ggold = Fraction(int((gloop+dgloop)*10),10)\n",
    "            print(yellow,\"trying good point\",ggold+0.0)\n",
    "            listOut = runit(stateID,ggold,listParams,debugmode);\n",
    "            iniS,resS,resDelta,dDelta,itr,shifterror,atime,newtonGoal,flagError,flagSaved = listOut;\n",
    "            if (2*resS<precGoal and flagSaved == 1):\n",
    "                gloop = ggold\n",
    "                print(Yellow,\"good point success, reset gloop\")\n",
    "                # increasing cutP\n",
    "                if (2*resS > precGoal-1 and 2*resS < precGoal and newtonGoal < precGoal and itr > 0 and 2*iniS < precGoal/8):\n",
    "                    cutP = cutP+2\n",
    "                    print(blue,\"cutP + 2: \", resS, \"try cutP: \", cutP)       \n",
    "                    if (not (2*resS<precGoal and flagSaved == 1)):\n",
    "                        continue;\n",
    "        if inc:\n",
    "            print(green,\"INCREASING: \", dgloop+0.0)\n",
    "        gloop = gloop + dgloop\n",
    "    else:\n",
    "        print(red,\"DECREASE GOING BACK\")\n",
    "        gloop = gloop - dgloop/2\n",
    "        dgloop = dgloop/2\n",
    "        succescount = 0"
   ]
  },
  {
   "cell_type": "code",
   "execution_count": null,
   "id": "b4d13604",
   "metadata": {},
   "outputs": [],
   "source": []
  }
 ],
 "metadata": {
  "kernelspec": {
   "display_name": "Python 3",
   "language": "python",
   "name": "python3"
  },
  "language_info": {
   "codemirror_mode": {
    "name": "ipython",
    "version": 3
   },
   "file_extension": ".py",
   "mimetype": "text/x-python",
   "name": "python",
   "nbconvert_exporter": "python",
   "pygments_lexer": "ipython3",
   "version": "3.8.8"
  }
 },
 "nbformat": 4,
 "nbformat_minor": 5
}
